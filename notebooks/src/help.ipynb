{
 "cells": [
  {
   "cell_type": "code",
   "execution_count": null,
   "metadata": {},
   "outputs": [],
   "source": [
    "from scipy.stats import moment\n",
    "import statsmodels.api as sm\n",
    "import pandas as pd\n",
    "import numpy as np"
   ]
  },
  {
   "cell_type": "code",
   "execution_count": null,
   "metadata": {},
   "outputs": [],
   "source": [
    "df_challange=pd.read_csv(ruta+'/challenge.csv')\n",
    "X_challange=df_challange.drop(['Label'], axis=1)\n",
    "\n",
    "gari=X_challange.iloc[0:580]\n",
    "diogo=X_challange.iloc[580:2*580]\n",
    "ralph=X_challange.iloc[2*580:]\n",
    "\n",
    "files=gari.Datafile.values"
   ]
  },
  {
   "cell_type": "code",
   "execution_count": null,
   "metadata": {},
   "outputs": [],
   "source": [
    "\n",
    "dic_process_signa_test={}\n",
    "row_index=0\n",
    "for each_row in files:\n",
    "    \n",
    "    col_sub='EMG1,EMG2,EMG3,EMG4,Airborne,ACC_upper_X,ACC_upper_Y,ACC_upper_Z,Goniometer_X,ACC_lower_X,ACC_lower_Y,ACC_loewr_Z,Goniometer_Y,Gyro_upper_X,Gyro_upper_Y,Gyro_upper_Z,Gyro_lower_X,Gyro_lower_Y,Gyro_lower_Z'\n",
    "    \n",
    "    df_explo=pd.read_csv(ruta+'/Subjects/'+each_row,names=col_sub.split(','))\n",
    "   \n",
    "    sg=[]\n",
    "    for each_col_signal in col_sub.split(','):\n",
    "        lowess = sm.nonparametric.lowess\n",
    "        anali=df_explo[[each_col_signal]]\n",
    "        valores=anali.values\n",
    "        indice=np.arange(0,len(anali.values),1)\n",
    "        w = lowess(valores.ravel(), indice, return_sorted=False,is_sorted=True)\n",
    "        momentos_w=moment(w, moment=[1,2,3])\n",
    "        FQ=valores.ravel()-w\n",
    "        FQ = abs(np.fft.fft(FQ)/len(FQ))\n",
    "        FQ = np.sort(FQ)[-5:]\n",
    "        sg.append(momentos_w)\n",
    "        sg.append(FQ)\n",
    "    row_index+=1\n",
    "    dic_process_signa_test[row_index]=sg"
   ]
  },
  {
   "cell_type": "code",
   "execution_count": null,
   "metadata": {},
   "outputs": [],
   "source": [
    "import pickle\n",
    "with open(\"dic_process_signa_challange_gari.file\", \"wb\") as f:\n",
    "    pickle.dump(dic_process_signa_challange_gari, f, pickle.HIGHEST_PROTOCOL)"
   ]
  }
 ],
 "metadata": {
  "kernelspec": {
   "display_name": "Python 3",
   "language": "python",
   "name": "python3"
  },
  "language_info": {
   "codemirror_mode": {
    "name": "ipython",
    "version": 3
   },
   "file_extension": ".py",
   "mimetype": "text/x-python",
   "name": "python",
   "nbconvert_exporter": "python",
   "pygments_lexer": "ipython3",
   "version": "3.6.8"
  }
 },
 "nbformat": 4,
 "nbformat_minor": 2
}
